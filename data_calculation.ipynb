{
 "cells": [
  {
   "cell_type": "markdown",
   "source": [
    "## Loading data"
   ],
   "metadata": {
    "collapsed": false
   }
  },
  {
   "cell_type": "code",
   "execution_count": 19,
   "outputs": [],
   "source": [
    "import os\n",
    "\n",
    "from bs4 import BeautifulSoup\n",
    "\n",
    "# Define the directory where your files are located\n",
    "directory = 'dataset/reuters21578/'\n",
    "\n",
    "# Function to extract topics and body content from a Reuters entry\n",
    "\n",
    "# Set of desired topics\n",
    "desired_topics = {'earn', 'acq', 'crude', 'corn'}\n",
    "\n",
    "# Function to extract topics and body content from a Reuters entry\n",
    "def extract_topics_and_body(reuter):\n",
    "    # First find the TOPICS tag\n",
    "    topics_tag = reuter.find('topics')\n",
    "    # Then find all D tags within the TOPICS tag\n",
    "    topics = [topic.text for topic in topics_tag.find_all('d')] if topics_tag else []\n",
    "    body = reuter.find('body')\n",
    "    body_content = body.text if body else None\n",
    "\n",
    "    # Keep only the desired topics, if there is exactly one match\n",
    "    matched_topics = [topic for topic in topics if topic in desired_topics]\n",
    "\n",
    "    if len(matched_topics) == 1:\n",
    "        # Return the single matched topic and the body content\n",
    "        return matched_topics[0], body_content\n",
    "    else:\n",
    "        # Return None to indicate no topic or multiple topics found\n",
    "        return None, None\n",
    "\n",
    "# List to hold all articles from all files\n",
    "all_articles = []\n",
    "\n",
    "# Counter for 'earn' topics\n",
    "earn_counter = 0\n",
    "acq_counter = 0\n",
    "crude_counter = 0\n",
    "\n",
    "# Process the first N files\n",
    "for i in range(10):\n",
    "    filename = f'reut2-00{i}.sgm' if i < 10 else f'reut2-0{i}.sgm'\n",
    "    file_path = os.path.join(directory, filename)\n",
    "\n",
    "    # Open and parse the file\n",
    "    with open(file_path, 'r', encoding='latin1') as file:\n",
    "        parsed_content = BeautifulSoup(file.read(), 'html.parser')\n",
    "\n",
    "        # Extract information from each Reuters entry\n",
    "        for reuter in parsed_content.find_all('reuters'):\n",
    "            topic, body_content = extract_topics_and_body(reuter)\n",
    "\n",
    "            # Continue to the next iteration if body_content is empty or None\n",
    "            if not body_content:\n",
    "                continue\n",
    "\n",
    "            # Check if the topic is 'earn'\n",
    "            if topic == 'earn':\n",
    "                earn_counter += 1\n",
    "                # Only add every fifth 'earn' entry\n",
    "                if earn_counter % 15 == 0:\n",
    "                    all_articles.append({'topic': topic, 'body': body_content})\n",
    "             # Check if the topic is 'acq'\n",
    "            elif topic == 'acq':\n",
    "                acq_counter += 1\n",
    "                # Only add every second 'earn' entry\n",
    "                if acq_counter % 9 == 0:\n",
    "                    all_articles.append({'topic': topic, 'body': body_content})\n",
    "             # Check if the topic is 'acq'\n",
    "            elif topic == 'crude':\n",
    "                crude_counter += 1\n",
    "                # Only add every second 'earn' entry\n",
    "                if crude_counter % 2 == 0:\n",
    "                    all_articles.append({'topic': topic, 'body': body_content})\n",
    "            elif topic:\n",
    "                # Add all other topics as usual\n",
    "                all_articles.append({'topic': topic, 'body': body_content})\n"
   ],
   "metadata": {
    "collapsed": false
   }
  },
  {
   "cell_type": "markdown",
   "source": [
    "#\n",
    "## Extracted data display"
   ],
   "metadata": {
    "collapsed": false
   }
  },
  {
   "cell_type": "code",
   "execution_count": 20,
   "outputs": [
    {
     "name": "stdout",
     "output_type": "stream",
     "text": [
      "Number of articles:  480\n",
      "\n",
      "Topic: earn, Count: 139\n",
      "Topic: crude, Count: 131\n",
      "Topic: acq, Count: 117\n",
      "Topic: corn, Count: 116\n"
     ]
    }
   ],
   "source": [
    "from collections import Counter\n",
    "\n",
    "# Initialize a counter for all topics\n",
    "topics_counter = Counter()\n",
    "\n",
    "# Iterate over each article and update the count of the topic\n",
    "for article in all_articles:\n",
    "    # The topic is now a string, not a list, so we increment its count by 1\n",
    "    topics_counter[article['topic']] += 1\n",
    "\n",
    "# Now we have a counter object with all topics and their counts\n",
    "# Let's convert it to a list of (topic, count) pairs for easier viewing\n",
    "topics_count_list = topics_counter.most_common()\n",
    "\n",
    "all_articles = all_articles[:480]\n",
    "\n",
    "print(\"Number of articles: \", len(all_articles))\n",
    "print()\n",
    "for topic, count in topics_count_list:\n",
    "    print(f\"Topic: {topic}, Count: {count}\")\n"
   ],
   "metadata": {
    "collapsed": false
   }
  },
  {
   "cell_type": "markdown",
   "source": [
    "#\n",
    "#\n",
    "#\n",
    "# Train SVM with the SSK kernel"
   ],
   "metadata": {
    "collapsed": false
   }
  },
  {
   "cell_type": "markdown",
   "source": [
    "#\n",
    "## Prepare text data for the SVM"
   ],
   "metadata": {
    "collapsed": false
   }
  },
  {
   "cell_type": "code",
   "execution_count": 23,
   "outputs": [
    {
     "name": "stdout",
     "output_type": "stream",
     "text": [
      "480\n"
     ]
    }
   ],
   "source": [
    "from sklearn.model_selection import train_test_split\n",
    "\n",
    "# Split your articles into the text content and labels\n",
    "X = [article['body'] for article in all_articles]  # list of text contents\n",
    "y = [article['topic'] for article in all_articles]  # list of corresponding labels\n",
    "\n",
    "# Since the SSK kernel expects the input as arrays of strings, we need to reshape our data\n",
    "# Convert the lists to numpy arrays and reshape them to be 2D with one column\n",
    "import numpy as np\n",
    "X = np.array(X).reshape(-1, 1)  # Text data\n",
    "y = np.array(y)  # Labels\n",
    "\n",
    "# Split the data into training and test sets\n",
    "X_train, X_test, y_train, y_test = train_test_split(X, y, test_size=90, train_size=370, random_state=42)\n"
   ],
   "metadata": {
    "collapsed": false
   }
  },
  {
   "cell_type": "markdown",
   "source": [
    "#\n",
    "## Effectiveness of Varying Sequence length"
   ],
   "metadata": {
    "collapsed": false
   }
  },
  {
   "cell_type": "code",
   "execution_count": 24,
   "outputs": [
    {
     "name": "stderr",
     "output_type": "stream",
     "text": [
      "C:\\Users\\lkrcelic\\AppData\\Local\\Temp\\ipykernel_16152\\127427452.py:17: DeprecationWarning: `np.float` is a deprecated alias for the builtin `float`. To silence this warning, use `float` by itself. Doing this will not modify any behavior and is safe. If you specifically wanted the numpy scalar type, use `np.float64` here.\n",
      "Deprecated in NumPy 1.20; for more details and guidance: https://numpy.org/devdocs/release/1.20.0-notes.html#deprecations\n",
      "  return string_kernel(X, Y, max_substring, float(lambda_decay))\n"
     ]
    },
    {
     "data": {
      "text/plain": "SVC(kernel=<function get_ssk_kernel_for_scikit.<locals>.ssk_kernel at 0x00000118F432F010>)",
      "text/html": "<style>#sk-container-id-1 {color: black;}#sk-container-id-1 pre{padding: 0;}#sk-container-id-1 div.sk-toggleable {background-color: white;}#sk-container-id-1 label.sk-toggleable__label {cursor: pointer;display: block;width: 100%;margin-bottom: 0;padding: 0.3em;box-sizing: border-box;text-align: center;}#sk-container-id-1 label.sk-toggleable__label-arrow:before {content: \"▸\";float: left;margin-right: 0.25em;color: #696969;}#sk-container-id-1 label.sk-toggleable__label-arrow:hover:before {color: black;}#sk-container-id-1 div.sk-estimator:hover label.sk-toggleable__label-arrow:before {color: black;}#sk-container-id-1 div.sk-toggleable__content {max-height: 0;max-width: 0;overflow: hidden;text-align: left;background-color: #f0f8ff;}#sk-container-id-1 div.sk-toggleable__content pre {margin: 0.2em;color: black;border-radius: 0.25em;background-color: #f0f8ff;}#sk-container-id-1 input.sk-toggleable__control:checked~div.sk-toggleable__content {max-height: 200px;max-width: 100%;overflow: auto;}#sk-container-id-1 input.sk-toggleable__control:checked~label.sk-toggleable__label-arrow:before {content: \"▾\";}#sk-container-id-1 div.sk-estimator input.sk-toggleable__control:checked~label.sk-toggleable__label {background-color: #d4ebff;}#sk-container-id-1 div.sk-label input.sk-toggleable__control:checked~label.sk-toggleable__label {background-color: #d4ebff;}#sk-container-id-1 input.sk-hidden--visually {border: 0;clip: rect(1px 1px 1px 1px);clip: rect(1px, 1px, 1px, 1px);height: 1px;margin: -1px;overflow: hidden;padding: 0;position: absolute;width: 1px;}#sk-container-id-1 div.sk-estimator {font-family: monospace;background-color: #f0f8ff;border: 1px dotted black;border-radius: 0.25em;box-sizing: border-box;margin-bottom: 0.5em;}#sk-container-id-1 div.sk-estimator:hover {background-color: #d4ebff;}#sk-container-id-1 div.sk-parallel-item::after {content: \"\";width: 100%;border-bottom: 1px solid gray;flex-grow: 1;}#sk-container-id-1 div.sk-label:hover label.sk-toggleable__label {background-color: #d4ebff;}#sk-container-id-1 div.sk-serial::before {content: \"\";position: absolute;border-left: 1px solid gray;box-sizing: border-box;top: 0;bottom: 0;left: 50%;z-index: 0;}#sk-container-id-1 div.sk-serial {display: flex;flex-direction: column;align-items: center;background-color: white;padding-right: 0.2em;padding-left: 0.2em;position: relative;}#sk-container-id-1 div.sk-item {position: relative;z-index: 1;}#sk-container-id-1 div.sk-parallel {display: flex;align-items: stretch;justify-content: center;background-color: white;position: relative;}#sk-container-id-1 div.sk-item::before, #sk-container-id-1 div.sk-parallel-item::before {content: \"\";position: absolute;border-left: 1px solid gray;box-sizing: border-box;top: 0;bottom: 0;left: 50%;z-index: -1;}#sk-container-id-1 div.sk-parallel-item {display: flex;flex-direction: column;z-index: 1;position: relative;background-color: white;}#sk-container-id-1 div.sk-parallel-item:first-child::after {align-self: flex-end;width: 50%;}#sk-container-id-1 div.sk-parallel-item:last-child::after {align-self: flex-start;width: 50%;}#sk-container-id-1 div.sk-parallel-item:only-child::after {width: 0;}#sk-container-id-1 div.sk-dashed-wrapped {border: 1px dashed gray;margin: 0 0.4em 0.5em 0.4em;box-sizing: border-box;padding-bottom: 0.4em;background-color: white;}#sk-container-id-1 div.sk-label label {font-family: monospace;font-weight: bold;display: inline-block;line-height: 1.2em;}#sk-container-id-1 div.sk-label-container {text-align: center;}#sk-container-id-1 div.sk-container {/* jupyter's `normalize.less` sets `[hidden] { display: none; }` but bootstrap.min.css set `[hidden] { display: none !important; }` so we also need the `!important` here to be able to override the default hidden behavior on the sphinx rendered scikit-learn.org. See: https://github.com/scikit-learn/scikit-learn/issues/21755 */display: inline-block !important;position: relative;}#sk-container-id-1 div.sk-text-repr-fallback {display: none;}</style><div id=\"sk-container-id-1\" class=\"sk-top-container\"><div class=\"sk-text-repr-fallback\"><pre>SVC(kernel=&lt;function get_ssk_kernel_for_scikit.&lt;locals&gt;.ssk_kernel at 0x00000118F432F010&gt;)</pre><b>In a Jupyter environment, please rerun this cell to show the HTML representation or trust the notebook. <br />On GitHub, the HTML representation is unable to render, please try loading this page with nbviewer.org.</b></div><div class=\"sk-container\" hidden><div class=\"sk-item\"><div class=\"sk-estimator sk-toggleable\"><input class=\"sk-toggleable__control sk-hidden--visually\" id=\"sk-estimator-id-1\" type=\"checkbox\" checked><label for=\"sk-estimator-id-1\" class=\"sk-toggleable__label sk-toggleable__label-arrow\">SVC</label><div class=\"sk-toggleable__content\"><pre>SVC(kernel=&lt;function get_ssk_kernel_for_scikit.&lt;locals&gt;.ssk_kernel at 0x00000118F432F010&gt;)</pre></div></div></div></div></div>"
     },
     "execution_count": 24,
     "metadata": {},
     "output_type": "execute_result"
    }
   ],
   "source": [
    "from sklearn.svm import SVC\n",
    "from string_kernel import string_kernel\n",
    "\n",
    "# Define the SSK kernel parameters\n",
    "max_substring = 5\n",
    "lambda_decay = 0.8\n",
    "\n",
    "# Assuming `string_kernel` is properly imported and callable\n",
    "# Define the wrapper function for the string kernel to be used with scikit-learn\n",
    "def get_ssk_kernel_for_scikit(max_substring, lambda_decay):\n",
    "    def ssk_kernel(X, Y):\n",
    "        if X.ndim < 2:\n",
    "            X = np.array(X).reshape(-1, 1)\n",
    "        if Y.ndim < 2:\n",
    "            Y = np.array(Y).reshape(-1, 1)\n",
    "\n",
    "        return string_kernel(X, Y, max_substring, float(lambda_decay))\n",
    "    return ssk_kernel\n",
    "\n",
    "# Create the custom SSK kernel function for scikit-learn\n",
    "my_ssk_kernel = get_ssk_kernel_for_scikit(max_substring, lambda_decay)\n",
    "\n",
    "# Create the SVM classifier using the custom kernel\n",
    "clf = SVC(kernel=my_ssk_kernel)\n",
    "\n",
    "# Train the SVM classifier\n",
    "clf.fit(X_train, y_train)\n",
    "\n",
    "# Now you can make predictions and evaluate the classifier\n",
    "# ...\n"
   ],
   "metadata": {
    "collapsed": false
   }
  },
  {
   "cell_type": "markdown",
   "source": [
    "### Make predictions on the test data"
   ],
   "metadata": {
    "collapsed": false
   }
  },
  {
   "cell_type": "code",
   "execution_count": 26,
   "outputs": [
    {
     "name": "stderr",
     "output_type": "stream",
     "text": [
      "C:\\Users\\lkrcelic\\AppData\\Local\\Temp\\ipykernel_16152\\127427452.py:17: DeprecationWarning: `np.float` is a deprecated alias for the builtin `float`. To silence this warning, use `float` by itself. Doing this will not modify any behavior and is safe. If you specifically wanted the numpy scalar type, use `np.float64` here.\n",
      "Deprecated in NumPy 1.20; for more details and guidance: https://numpy.org/devdocs/release/1.20.0-notes.html#deprecations\n",
      "  return string_kernel(X, Y, max_substring, float(lambda_decay))\n"
     ]
    },
    {
     "ename": "KeyboardInterrupt",
     "evalue": "",
     "output_type": "error",
     "traceback": [
      "\u001B[1;31m---------------------------------------------------------------------------\u001B[0m",
      "\u001B[1;31mKeyboardInterrupt\u001B[0m                         Traceback (most recent call last)",
      "Cell \u001B[1;32mIn[26], line 4\u001B[0m\n\u001B[0;32m      1\u001B[0m \u001B[38;5;28;01mfrom\u001B[39;00m \u001B[38;5;21;01msklearn\u001B[39;00m\u001B[38;5;21;01m.\u001B[39;00m\u001B[38;5;21;01mmetrics\u001B[39;00m \u001B[38;5;28;01mimport\u001B[39;00m classification_report, accuracy_score\n\u001B[0;32m      3\u001B[0m \u001B[38;5;66;03m# Make predictions on the test data\u001B[39;00m\n\u001B[1;32m----> 4\u001B[0m y_pred \u001B[38;5;241m=\u001B[39m \u001B[43mclf\u001B[49m\u001B[38;5;241;43m.\u001B[39;49m\u001B[43mpredict\u001B[49m\u001B[43m(\u001B[49m\u001B[43mX_test\u001B[49m\u001B[43m)\u001B[49m\n\u001B[0;32m      6\u001B[0m \u001B[38;5;66;03m# Evaluate the performance\u001B[39;00m\n\u001B[0;32m      7\u001B[0m \u001B[38;5;28mprint\u001B[39m(\u001B[38;5;124m\"\u001B[39m\u001B[38;5;124mAccuracy:\u001B[39m\u001B[38;5;124m\"\u001B[39m, accuracy_score(y_test, y_pred))\n",
      "File \u001B[1;32mC:\\Python310\\lib\\site-packages\\sklearn\\svm\\_base.py:818\u001B[0m, in \u001B[0;36mBaseSVC.predict\u001B[1;34m(self, X)\u001B[0m\n\u001B[0;32m    816\u001B[0m     y \u001B[38;5;241m=\u001B[39m np\u001B[38;5;241m.\u001B[39margmax(\u001B[38;5;28mself\u001B[39m\u001B[38;5;241m.\u001B[39mdecision_function(X), axis\u001B[38;5;241m=\u001B[39m\u001B[38;5;241m1\u001B[39m)\n\u001B[0;32m    817\u001B[0m \u001B[38;5;28;01melse\u001B[39;00m:\n\u001B[1;32m--> 818\u001B[0m     y \u001B[38;5;241m=\u001B[39m \u001B[38;5;28;43msuper\u001B[39;49m\u001B[43m(\u001B[49m\u001B[43m)\u001B[49m\u001B[38;5;241;43m.\u001B[39;49m\u001B[43mpredict\u001B[49m\u001B[43m(\u001B[49m\u001B[43mX\u001B[49m\u001B[43m)\u001B[49m\n\u001B[0;32m    819\u001B[0m \u001B[38;5;28;01mreturn\u001B[39;00m \u001B[38;5;28mself\u001B[39m\u001B[38;5;241m.\u001B[39mclasses_\u001B[38;5;241m.\u001B[39mtake(np\u001B[38;5;241m.\u001B[39masarray(y, dtype\u001B[38;5;241m=\u001B[39mnp\u001B[38;5;241m.\u001B[39mintp))\n",
      "File \u001B[1;32mC:\\Python310\\lib\\site-packages\\sklearn\\svm\\_base.py:433\u001B[0m, in \u001B[0;36mBaseLibSVM.predict\u001B[1;34m(self, X)\u001B[0m\n\u001B[0;32m    431\u001B[0m X \u001B[38;5;241m=\u001B[39m \u001B[38;5;28mself\u001B[39m\u001B[38;5;241m.\u001B[39m_validate_for_predict(X)\n\u001B[0;32m    432\u001B[0m predict \u001B[38;5;241m=\u001B[39m \u001B[38;5;28mself\u001B[39m\u001B[38;5;241m.\u001B[39m_sparse_predict \u001B[38;5;28;01mif\u001B[39;00m \u001B[38;5;28mself\u001B[39m\u001B[38;5;241m.\u001B[39m_sparse \u001B[38;5;28;01melse\u001B[39;00m \u001B[38;5;28mself\u001B[39m\u001B[38;5;241m.\u001B[39m_dense_predict\n\u001B[1;32m--> 433\u001B[0m \u001B[38;5;28;01mreturn\u001B[39;00m \u001B[43mpredict\u001B[49m\u001B[43m(\u001B[49m\u001B[43mX\u001B[49m\u001B[43m)\u001B[49m\n",
      "File \u001B[1;32mC:\\Python310\\lib\\site-packages\\sklearn\\svm\\_base.py:436\u001B[0m, in \u001B[0;36mBaseLibSVM._dense_predict\u001B[1;34m(self, X)\u001B[0m\n\u001B[0;32m    435\u001B[0m \u001B[38;5;28;01mdef\u001B[39;00m \u001B[38;5;21m_dense_predict\u001B[39m(\u001B[38;5;28mself\u001B[39m, X):\n\u001B[1;32m--> 436\u001B[0m     X \u001B[38;5;241m=\u001B[39m \u001B[38;5;28;43mself\u001B[39;49m\u001B[38;5;241;43m.\u001B[39;49m\u001B[43m_compute_kernel\u001B[49m\u001B[43m(\u001B[49m\u001B[43mX\u001B[49m\u001B[43m)\u001B[49m\n\u001B[0;32m    437\u001B[0m     \u001B[38;5;28;01mif\u001B[39;00m X\u001B[38;5;241m.\u001B[39mndim \u001B[38;5;241m==\u001B[39m \u001B[38;5;241m1\u001B[39m:\n\u001B[0;32m    438\u001B[0m         X \u001B[38;5;241m=\u001B[39m check_array(X, order\u001B[38;5;241m=\u001B[39m\u001B[38;5;124m\"\u001B[39m\u001B[38;5;124mC\u001B[39m\u001B[38;5;124m\"\u001B[39m, accept_large_sparse\u001B[38;5;241m=\u001B[39m\u001B[38;5;28;01mFalse\u001B[39;00m)\n",
      "File \u001B[1;32mC:\\Python310\\lib\\site-packages\\sklearn\\svm\\_base.py:511\u001B[0m, in \u001B[0;36mBaseLibSVM._compute_kernel\u001B[1;34m(self, X)\u001B[0m\n\u001B[0;32m    507\u001B[0m \u001B[38;5;250m\u001B[39m\u001B[38;5;124;03m\"\"\"Return the data transformed by a callable kernel\"\"\"\u001B[39;00m\n\u001B[0;32m    508\u001B[0m \u001B[38;5;28;01mif\u001B[39;00m \u001B[38;5;28mcallable\u001B[39m(\u001B[38;5;28mself\u001B[39m\u001B[38;5;241m.\u001B[39mkernel):\n\u001B[0;32m    509\u001B[0m     \u001B[38;5;66;03m# in the case of precomputed kernel given as a function, we\u001B[39;00m\n\u001B[0;32m    510\u001B[0m     \u001B[38;5;66;03m# have to compute explicitly the kernel matrix\u001B[39;00m\n\u001B[1;32m--> 511\u001B[0m     kernel \u001B[38;5;241m=\u001B[39m \u001B[38;5;28;43mself\u001B[39;49m\u001B[38;5;241;43m.\u001B[39;49m\u001B[43mkernel\u001B[49m\u001B[43m(\u001B[49m\u001B[43mX\u001B[49m\u001B[43m,\u001B[49m\u001B[43m \u001B[49m\u001B[38;5;28;43mself\u001B[39;49m\u001B[38;5;241;43m.\u001B[39;49m\u001B[43m__Xfit\u001B[49m\u001B[43m)\u001B[49m\n\u001B[0;32m    512\u001B[0m     \u001B[38;5;28;01mif\u001B[39;00m sp\u001B[38;5;241m.\u001B[39missparse(kernel):\n\u001B[0;32m    513\u001B[0m         kernel \u001B[38;5;241m=\u001B[39m kernel\u001B[38;5;241m.\u001B[39mtoarray()\n",
      "Cell \u001B[1;32mIn[24], line 17\u001B[0m, in \u001B[0;36mget_ssk_kernel_for_scikit.<locals>.ssk_kernel\u001B[1;34m(X, Y)\u001B[0m\n\u001B[0;32m     14\u001B[0m \u001B[38;5;28;01mif\u001B[39;00m Y\u001B[38;5;241m.\u001B[39mndim \u001B[38;5;241m<\u001B[39m \u001B[38;5;241m2\u001B[39m:\n\u001B[0;32m     15\u001B[0m     Y \u001B[38;5;241m=\u001B[39m np\u001B[38;5;241m.\u001B[39marray(Y)\u001B[38;5;241m.\u001B[39mreshape(\u001B[38;5;241m-\u001B[39m\u001B[38;5;241m1\u001B[39m, \u001B[38;5;241m1\u001B[39m)\n\u001B[1;32m---> 17\u001B[0m \u001B[38;5;28;01mreturn\u001B[39;00m \u001B[43mstring_kernel\u001B[49m\u001B[43m(\u001B[49m\u001B[43mX\u001B[49m\u001B[43m,\u001B[49m\u001B[43m \u001B[49m\u001B[43mY\u001B[49m\u001B[43m,\u001B[49m\u001B[43m \u001B[49m\u001B[43mmax_substring\u001B[49m\u001B[43m,\u001B[49m\u001B[43m \u001B[49m\u001B[38;5;28;43mfloat\u001B[39;49m\u001B[43m(\u001B[49m\u001B[43mlambda_decay\u001B[49m\u001B[43m)\u001B[49m\u001B[43m)\u001B[49m\n",
      "File \u001B[1;32m~\\PycharmProjects\\UZOP\\string_kernel.pyx:91\u001B[0m, in \u001B[0;36mstring_kernel.string_kernel\u001B[1;34m()\u001B[0m\n\u001B[0;32m     89\u001B[0m         mat_xs[i] = ssk_fun(xs[i,0], xs[i,0], n, lbda, accum=True)\n\u001B[0;32m     90\u001B[0m     for j in range(lenys):\n\u001B[1;32m---> 91\u001B[0m         mat_ys[j] = ssk_fun(ys[j,0], ys[j,0], n, lbda, accum=True)\n\u001B[0;32m     92\u001B[0m \n\u001B[0;32m     93\u001B[0m return np.divide(mat, np.sqrt(mat_ys.T * mat_xs))\n",
      "File \u001B[1;32m~\\PycharmProjects\\UZOP\\string_kernel.pyx:13\u001B[0m, in \u001B[0;36mstring_kernel.ssk\u001B[1;34m()\u001B[0m\n\u001B[0;32m     11\u001B[0m     s_array = array.array('l', [ord(c) for c in s])\n\u001B[0;32m     12\u001B[0m     t_array = array.array('l', [ord(c) for c in t])\n\u001B[1;32m---> 13\u001B[0m     return ssk_array(s_array, t_array, n, lbda, accum)\n\u001B[0;32m     14\u001B[0m \n\u001B[0;32m     15\u001B[0m # Kernel defined by Lodhi et al. (2002)\n",
      "File \u001B[1;32m~\\PycharmProjects\\UZOP\\string_kernel.pyx:31\u001B[0m, in \u001B[0;36mstring_kernel.ssk_array\u001B[1;34m()\u001B[0m\n\u001B[0;32m     29\u001B[0m #k_prim = (-1)*np.ones( (n+1, lens, lent) )\n\u001B[0;32m     30\u001B[0m cdef np.ndarray[np.float64_t, ndim=3] \\\n\u001B[1;32m---> 31\u001B[0m     k_prim = np.zeros((n, lens, lent), dtype=np.float)\n\u001B[0;32m     32\u001B[0m \n\u001B[0;32m     33\u001B[0m k_prim[0,:,:] = 1\n",
      "File \u001B[1;32mC:\\Python310\\lib\\site-packages\\numpy\\__init__.py:295\u001B[0m, in \u001B[0;36m__getattr__\u001B[1;34m(attr)\u001B[0m\n\u001B[0;32m    293\u001B[0m     \u001B[38;5;28;01mpass\u001B[39;00m\n\u001B[0;32m    294\u001B[0m \u001B[38;5;28;01melse\u001B[39;00m:\n\u001B[1;32m--> 295\u001B[0m     \u001B[43mwarnings\u001B[49m\u001B[38;5;241;43m.\u001B[39;49m\u001B[43mwarn\u001B[49m\u001B[43m(\u001B[49m\u001B[43mmsg\u001B[49m\u001B[43m,\u001B[49m\u001B[43m \u001B[49m\u001B[38;5;167;43;01mDeprecationWarning\u001B[39;49;00m\u001B[43m,\u001B[49m\u001B[43m \u001B[49m\u001B[43mstacklevel\u001B[49m\u001B[38;5;241;43m=\u001B[39;49m\u001B[38;5;241;43m2\u001B[39;49m\u001B[43m)\u001B[49m\n\u001B[0;32m    296\u001B[0m     \u001B[38;5;28;01mreturn\u001B[39;00m val\n\u001B[0;32m    298\u001B[0m \u001B[38;5;66;03m# Importing Tester requires importing all of UnitTest which is not a\u001B[39;00m\n\u001B[0;32m    299\u001B[0m \u001B[38;5;66;03m# cheap import Since it is mainly used in test suits, we lazy import it\u001B[39;00m\n\u001B[0;32m    300\u001B[0m \u001B[38;5;66;03m# here to save on the order of 10 ms of import time for most users\u001B[39;00m\n\u001B[0;32m    301\u001B[0m \u001B[38;5;66;03m#\u001B[39;00m\n\u001B[0;32m    302\u001B[0m \u001B[38;5;66;03m# The previous way Tester was imported also had a side effect of adding\u001B[39;00m\n\u001B[0;32m    303\u001B[0m \u001B[38;5;66;03m# the full `numpy.testing` namespace\u001B[39;00m\n",
      "\u001B[1;31mKeyboardInterrupt\u001B[0m: "
     ]
    }
   ],
   "source": [
    "from sklearn.metrics import classification_report, accuracy_score\n",
    "\n",
    "# Make predictions on the test data\n",
    "y_pred = clf.predict(X_test)\n",
    "\n",
    "# Evaluate the performance\n",
    "print(\"Accuracy:\", accuracy_score(y_test, y_pred))\n",
    "print(classification_report(y_test, y_pred))\n"
   ],
   "metadata": {
    "collapsed": false
   }
  },
  {
   "cell_type": "code",
   "execution_count": null,
   "outputs": [],
   "source": [],
   "metadata": {
    "collapsed": false
   }
  }
 ],
 "metadata": {
  "kernelspec": {
   "display_name": "Python 3",
   "language": "python",
   "name": "python3"
  },
  "language_info": {
   "codemirror_mode": {
    "name": "ipython",
    "version": 2
   },
   "file_extension": ".py",
   "mimetype": "text/x-python",
   "name": "python",
   "nbconvert_exporter": "python",
   "pygments_lexer": "ipython2",
   "version": "2.7.6"
  }
 },
 "nbformat": 4,
 "nbformat_minor": 0
}
