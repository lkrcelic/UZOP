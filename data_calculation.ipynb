{
 "cells": [
  {
   "cell_type": "markdown",
   "source": [
    "# Popis naslova\n",
    "\n",
    "* ## Opis dokumenta\n",
    "    * ### Tema dokumenta\n",
    "    * ### Što je SSK\n",
    "    * ### Rad SVM i SSK zajedno\n",
    "\n",
    "* ## Opis našeg rada\n",
    "    * ### Unos podataka\n",
    "    * ### Filtriranje podataka\n",
    "    * ### Priprema podataka\n",
    "    * ### Treniranje\n",
    "    * ### Testiranje\n",
    "    * ### Analiza rezultata\n"
   ],
   "metadata": {
    "collapsed": false
   }
  },
  {
   "cell_type": "markdown",
   "source": [
    "### Klasifikacija Teksta Korištenjem Jezgri Nad Nizovima\n",
    "\n",
    "- **Korištenje Specijaliziranog Kernela**: Razvijen je novi pristup za kategorizaciju tekstova koristeći kernel baziran na svim podnizovima duljine 'k'.\n",
    "- **Eksponencijalni Težinski Faktori**: Podnizovi su vagani s faktorima koji eksponencijalno opadaju ovisno o njihovoj kontinuitetu unutar teksta.\n",
    "- **Primjena Dinamičkog Programiranja**: Uprkos visokoj dimenzionalnosti prostora značajki, unutarnji produkt se efikasno računa pomoću dinamičkog programiranja.\n",
    "- **Usporedba s Standardnim Pristupima**: Kernel se empirijski uspoređuje s tradicionalnim jezgrama temeljenima na riječima, pokazujući bolje rezultate na određenim skupovima podataka.\n",
    "- **Aproksimacija za Velike Skupove Podataka**: Predložena je tehnika aproksimacije koja omogućava efikasnu obradu velikih skupova podataka bez značajnog gubitka informacija.\n"
   ],
   "metadata": {
    "collapsed": false
   }
  },
  {
   "cell_type": "markdown",
   "source": [
    "### String Subsequence Kernel (SSK)\n",
    "\n",
    "- **Definicija SSK**: String Subsequence Kernel je posebna vrsta jezgre koja mjeri sličnost između tekstualnih dokumenata na temelju zajedničkih podnizova znakova.\n",
    "- **Podnizovi znakova**: SSK uzima u obzir sve moguće podnizove duljine 'k' unutar teksta, ne zahtijevajući da su znakovi podnizova uzastopni.\n",
    "- **Težinska funkcija**: SSK primjenjuje eksponencijalno opadajuću težinsku funkciju na podnizove, dajući veću važnost onima koji su prostorno bliži unutar teksta.\n",
    "- **Efikasnost izračuna**: Zbog velike dimenzionalnosti prostora značajki, SSK koristi tehnike dinamičkog programiranja kako bi izračunao jezgre brzo i učinkovito.\n",
    "- **Primjena u kategorizaciji teksta**: SSK se uspješno koristi u zadacima kategorizacije teksta, gdje se pokazao boljim u odnosu na standardne pristupe bazirane na frekvenciji riječi.\n"
   ],
   "metadata": {
    "collapsed": false
   }
  },
  {
   "cell_type": "markdown",
   "source": [
    "### Rad SVM i SSK Zajedno\n",
    "\n",
    "- **Integracija SVM i SSK**: Support Vector Machines (SVM) se koriste u kombinaciji s String Subsequence Kernelom (SSK) za klasifikaciju tekstualnih podataka.\n",
    "- **Prednosti SSK u SVM**: SSK omogućava SVM-u da efikasno obrađuje tekst tako što identificira složene obrasce u podacima koristeći podnizove znakova.\n",
    "- **Visokodimenzionalni Prostori**: SSK prenosi tekst u visokodimenzionalni prostor značajki koji SVM može koristiti za razlikovanje kategorija.\n",
    "- **Dinamičko Programiranje**: Korištenje dinamičkog programiranja unutar SSK-a smanjuje vremensku složenost izračuna potrebnih za SVM.\n",
    "- **Poboljšanje Klasifikacije**: Kombinacija SVM-a s SSK-om pokazuje bolje rezultate u klasifikaciji teksta u odnosu na tradicionalne metode klasifikacije.\n"
   ],
   "metadata": {
    "collapsed": false
   }
  },
  {
   "cell_type": "markdown",
   "source": [
    "#\n",
    "\n",
    "\n",
    "\n",
    "\n",
    "\n",
    "\n",
    "# Opis našeg rada"
   ],
   "metadata": {
    "collapsed": false
   }
  },
  {
   "cell_type": "markdown",
   "source": [
    "## Unos podataka"
   ],
   "metadata": {
    "collapsed": false
   }
  },
  {
   "cell_type": "code",
   "execution_count": 70,
   "outputs": [],
   "source": [
    "import os\n",
    "\n",
    "from bs4 import BeautifulSoup\n",
    "\n",
    "# Define the directory where your files are located\n",
    "directory = 'dataset/reuters21578/'\n",
    "\n",
    "# Set of desired topics\n",
    "desired_topics = {'earn', 'acq', 'crude', 'corn'}\n",
    "\n",
    "# Function to extract topics and body content from a Reuters entry\n",
    "def extract_topics_and_body(reuter):\n",
    "    # First find the TOPICS tag\n",
    "    topics_tag = reuter.find('topics')\n",
    "    # Then find all D tags within the TOPICS tag\n",
    "    topics = [topic.text for topic in topics_tag.find_all('d')] if topics_tag else []\n",
    "    body = reuter.find('body')\n",
    "    body_content = body.text if body else None\n",
    "\n",
    "    # Keep only the desired topics, if there is exactly one match\n",
    "    matched_topics = [topic for topic in topics if topic in desired_topics]\n",
    "\n",
    "    if len(matched_topics) == 1:\n",
    "        # Return the single matched topic and the body content\n",
    "        return matched_topics[0], body_content\n",
    "    else:\n",
    "        # Return None to indicate no topic or multiple topics found\n",
    "        return None, None\n",
    "\n",
    "# List to hold all articles from all files\n",
    "all_articles = []\n",
    "\n",
    "# Counter for 'earn' topics\n",
    "earn_counter = 0\n",
    "acq_counter = 0\n",
    "crude_counter = 0\n",
    "\n",
    "# Process the first N files\n",
    "for i in range(10):\n",
    "    filename = f'reut2-00{i}.sgm' if i < 10 else f'reut2-0{i}.sgm'\n",
    "    file_path = os.path.join(directory, filename)\n",
    "\n",
    "    # Open and parse the file\n",
    "    with open(file_path, 'r', encoding='latin1') as file:\n",
    "        parsed_content = BeautifulSoup(file.read(), 'html.parser')\n",
    "\n",
    "        # Extract information from each Reuters entry\n",
    "        for reuter in parsed_content.find_all('reuters'):\n",
    "            topic, body_content = extract_topics_and_body(reuter)\n",
    "\n",
    "            # Continue to the next iteration if body_content is empty or None\n",
    "            if not body_content:\n",
    "                continue\n",
    "\n",
    "            all_articles.append({'topic': topic, 'body': body_content})\n"
   ],
   "metadata": {
    "collapsed": false
   }
  },
  {
   "cell_type": "markdown",
   "source": [
    "#\n",
    "## Filtriranje podataka"
   ],
   "metadata": {
    "collapsed": false
   }
  },
  {
   "cell_type": "code",
   "execution_count": null,
   "outputs": [],
   "source": [
    "from collections import Counter\n",
    "\n",
    "# Initialize a counter for all topics\n",
    "topics_counter = Counter()\n",
    "\n",
    "#model_articles = all_articles\n",
    "model_articles = []\n",
    "\n",
    "for topic in desired_topics:\n",
    "    # Filter articles by topic and slice the first 30\n",
    "    articles_of_topic = [article for article in all_articles if article['topic'] == topic][:60]\n",
    "    # Extend the model_articles list with the filtered articles\n",
    "    model_articles.extend(articles_of_topic)\n",
    "\n",
    "# Iterate over each article and update the count of the topic\n",
    "for article in model_articles:\n",
    "    # The topic is now a string, not a list, so we increment its count by 1\n",
    "    topics_counter[article['topic']] += 1\n",
    "\n",
    "# Now we have a counter object with all topics and their counts\n",
    "# Let's convert it to a list of (topic, count) pairs for easier viewing\n",
    "topics_count_list = topics_counter.most_common()\n"
   ],
   "metadata": {
    "collapsed": false,
    "pycharm": {
     "is_executing": true
    }
   }
  },
  {
   "cell_type": "code",
   "execution_count": 102,
   "outputs": [
    {
     "data": {
      "text/plain": "<Figure size 800x600 with 1 Axes>",
      "image/png": "[encoded data removed]"
     },
     "metadata": {},
     "output_type": "display_data"
    }
   ],
   "source": [
    "import matplotlib.pyplot as plt\n",
    "\n",
    "# Data from the image\n",
    "topics = []\n",
    "counts = []\n",
    "for topic, count in topics_count_list:\n",
    "    topics.append(topic)\n",
    "    counts.append(count)\n",
    "\n",
    "# Create a bar graph\n",
    "plt.figure(figsize=(8, 6))\n",
    "plt.bar(topics, counts, color=['blue', 'green', 'red', 'purple'])\n",
    "\n",
    "# Add titles and labels\n",
    "plt.title('Number of Articles by Topic')\n",
    "plt.xlabel('Topic')\n",
    "plt.ylabel('Count')\n",
    "\n",
    "# Show the graph\n",
    "plt.show()\n"
   ],
   "metadata": {
    "collapsed": false
   }
  },
  {
   "cell_type": "markdown",
   "source": [
    "#\n",
    "## Priprema podataka za test"
   ],
   "metadata": {
    "collapsed": false
   }
  },
  {
   "cell_type": "code",
   "execution_count": 103,
   "outputs": [
    {
     "name": "stderr",
     "output_type": "stream",
     "text": [
      "[nltk_data] Downloading package punkt to\n",
      "[nltk_data]     C:\\Users\\lkrcelic\\AppData\\Roaming\\nltk_data...\n",
      "[nltk_data]   Package punkt is already up-to-date!\n",
      "[nltk_data] Downloading package stopwords to\n",
      "[nltk_data]     C:\\Users\\lkrcelic\\AppData\\Roaming\\nltk_data...\n",
      "[nltk_data]   Package stopwords is already up-to-date!\n"
     ]
    }
   ],
   "source": [
    "from sklearn.model_selection import train_test_split\n",
    "import nltk\n",
    "from nltk.corpus import stopwords\n",
    "from nltk.tokenize import word_tokenize\n",
    "\n",
    "# Download the set of stop words the first time\n",
    "nltk.download('punkt')\n",
    "nltk.download('stopwords')\n",
    "\n",
    "# Load stop words\n",
    "stop_words = set(stopwords.words('english'))\n",
    "\n",
    "# Define a function to clean the text\n",
    "def clean_text(text):\n",
    "    # Tokenize the text to words\n",
    "    words = word_tokenize(text)\n",
    "    # Remove punctuation and convert to lower case\n",
    "    words = [word.lower() for word in words if word.isalpha()]\n",
    "    # Remove stop words\n",
    "    words = [word for word in words if not word in stop_words]\n",
    "    # Join words back to string\n",
    "    text = ' '.join(words)\n",
    "    return text\n",
    "\n",
    "# Split your articles into the text content and labels\n",
    "X = [clean_text(article['body']) for article in model_articles]  # list of text contents\n",
    "y = [article['topic'] for article in model_articles]  # list of corresponding labels\n",
    "\n",
    "# Since the SSK kernel expects the input as arrays of strings, we need to reshape our data\n",
    "# Convert the lists to numpy arrays and reshape them to be 2D with one column\n",
    "import numpy as np\n",
    "X = np.array(X).reshape(-1, 1)  # Text data\n",
    "y = np.array(y)  # Labels\n",
    "\n",
    "# Split the data into training and test sets\n",
    "X_train, X_test, y_train, y_test = train_test_split(X, y, test_size=40, train_size=160, random_state=40)\n"
   ],
   "metadata": {
    "collapsed": false
   }
  },
  {
   "cell_type": "code",
   "execution_count": 104,
   "outputs": [
    {
     "data": {
      "text/plain": "<Figure size 640x480 with 1 Axes>",
      "image/png": "[encoded data removed]"
     },
     "metadata": {},
     "output_type": "display_data"
    }
   ],
   "source": [
    "import matplotlib.pyplot as plt\n",
    "\n",
    "# Placeholder values for the size of each set\n",
    "train_size = 340\n",
    "test_size = 60\n",
    "random_state = 80\n",
    "\n",
    "# Assuming that the total size is the sum of train and test\n",
    "total_size = train_size + test_size + random_state\n",
    "\n",
    "# Define the labels, positions, and sizes for the bars\n",
    "labels = ['Training Set', 'Test Set', 'Random State']\n",
    "sizes = [train_size, test_size, random_state]\n",
    "positions = range(len(labels))\n",
    "\n",
    "# Create the bar chart\n",
    "plt.bar(positions, sizes, align='center', alpha=0.7, color=['blue', 'green', 'orange'])\n",
    "\n",
    "# Add the counts above the bars\n",
    "for i in range(len(labels)):\n",
    "    plt.text(i, sizes[i] + total_size*0.01, str(sizes[i]), ha='center')\n",
    "\n",
    "# Add some text for labels, title, and axes ticks\n",
    "plt.ylabel('Number of Observations')\n",
    "plt.title('Training and Test Set Sizes')\n",
    "\n",
    "# Add the labels to the x-axis at bar centers\n",
    "plt.xticks(positions, labels)\n",
    "\n",
    "plt.tight_layout()\n",
    "plt.show()\n"
   ],
   "metadata": {
    "collapsed": false
   }
  },
  {
   "cell_type": "markdown",
   "source": [
    "#\n",
    "## Treniranje"
   ],
   "metadata": {
    "collapsed": false
   }
  },
  {
   "cell_type": "code",
   "execution_count": null,
   "outputs": [],
   "source": [
    "from sklearn.svm import SVC\n",
    "from string_kernel import string_kernel\n",
    "\n",
    "# Define the SSK kernel parameters\n",
    "max_substring = 3\n",
    "lambda_decay = 0.8\n",
    "\n",
    "def get_ssk_kernel_for_scikit(max_substring, lambda_decay):\n",
    "    def ssk_kernel(X, Y):\n",
    "        if X.ndim < 2:\n",
    "            X = np.array(X).reshape(-1, 1)\n",
    "        if Y.ndim < 2:\n",
    "            Y = np.array(Y).reshape(-1, 1)\n",
    "\n",
    "        return string_kernel(X, Y, max_substring, float(lambda_decay))\n",
    "    return ssk_kernel\n",
    "\n",
    "# Create the custom SSK kernel function for scikit-learn\n",
    "my_ssk_kernel = get_ssk_kernel_for_scikit(max_substring, lambda_decay)\n",
    "\n",
    "# Create the SVM classifier using the custom kernel\n",
    "clf = SVC(kernel=my_ssk_kernel)\n",
    "\n",
    "# Train the SVM classifier\n",
    "clf.fit(X_train, y_train)\n"
   ],
   "metadata": {
    "collapsed": false,
    "pycharm": {
     "is_executing": true
    }
   }
  },
  {
   "cell_type": "markdown",
   "source": [
    "#\n",
    "## Testiranje"
   ],
   "metadata": {
    "collapsed": false
   }
  },
  {
   "cell_type": "code",
   "execution_count": null,
   "outputs": [],
   "source": [
    "from sklearn.metrics import classification_report, accuracy_score\n",
    "\n",
    "# Make predictions on the test data\n",
    "y_pred = clf.predict(X_test)\n"
   ],
   "metadata": {
    "collapsed": false,
    "pycharm": {
     "is_executing": true
    }
   }
  },
  {
   "cell_type": "markdown",
   "source": [
    "#\n",
    "## Analiza rezultata"
   ],
   "metadata": {
    "collapsed": false
   }
  },
  {
   "cell_type": "code",
   "execution_count": 100,
   "outputs": [
    {
     "data": {
      "text/plain": "<Figure size 1000x600 with 1 Axes>",
      "image/png": "[encoded data removed]"
     },
     "metadata": {},
     "output_type": "display_data"
    }
   ],
   "source": [
    "import matplotlib.pyplot as plt\n",
    "import numpy as np\n",
    "from sklearn.metrics import classification_report, accuracy_score\n",
    "\n",
    "\n",
    "report = classification_report(y_test, y_pred, output_dict=True)\n",
    "\n",
    "labels = ['acq', 'corn', 'crude', 'earn']\n",
    "precision = [report[label]['precision'] for label in labels]\n",
    "recall = [report[label]['recall'] for label in labels]\n",
    "f1_score = [report[label]['f1-score'] for label in labels]\n",
    "\n",
    "overallAccuracy = accuracy_score(y_test, y_pred)\n",
    "\n",
    "bar_width = 0.25\n",
    "\n",
    "# Positions for the first three sets of bars (precision, recall, f1-score)\n",
    "r1 = np.arange(len(precision))\n",
    "r2 = [x + bar_width for x in r1]\n",
    "r3 = [x + bar_width for x in r2]\n",
    "\n",
    "# Make the plot\n",
    "plt.figure(figsize=(10, 6))\n",
    "\n",
    "plt.bar(r1, precision, color='blue', width=bar_width, edgecolor='grey', label='Precision')\n",
    "plt.bar(r2, recall, color='red', width=bar_width, edgecolor='grey', label='Recall')\n",
    "plt.bar(r3, f1_score, color='green', width=bar_width, edgecolor='grey', label='F1-Score')\n",
    "\n",
    "# Plotting the overall accuracy separately on the far right\n",
    "overall_accuracy_bar_pos = r3[-1] + 1.5 * bar_width  # Adjust the 1.5 if needed\n",
    "plt.bar(overall_accuracy_bar_pos, overallAccuracy, color='orange', width=bar_width, edgecolor='grey', label='Overall Accuracy')\n",
    "\n",
    "# Add xticks on the middle of the group bars and for the overall accuracy\n",
    "plt.xlabel('Metric', fontweight='bold')\n",
    "plt.ylabel('Scores', fontweight='bold')\n",
    "plt.xticks([r + bar_width for r in range(len(precision))] + [overall_accuracy_bar_pos], labels + ['Overall Accuracy'])\n",
    "\n",
    "# Create legend & Show graphic\n",
    "plt.title('Classification Metrics per Class and Overall Accuracy')\n",
    "plt.legend(loc='upper left', bbox_to_anchor=(1,1))  # Place legend outside to the top\n",
    "plt.tight_layout()\n",
    "plt.show()\n"
   ],
   "metadata": {
    "collapsed": false
   }
  }
 ],
 "metadata": {
  "kernelspec": {
   "display_name": "Python 3",
   "language": "python",
   "name": "python3"
  },
  "language_info": {
   "codemirror_mode": {
    "name": "ipython",
    "version": 2
   },
   "file_extension": ".py",
   "mimetype": "text/x-python",
   "name": "python",
   "nbconvert_exporter": "python",
   "pygments_lexer": "ipython2",
   "version": "2.7.6"
  }
 },
 "nbformat": 4,
 "nbformat_minor": 0
}
